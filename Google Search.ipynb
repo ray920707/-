{
  "nbformat": 4,
  "nbformat_minor": 0,
  "metadata": {
    "colab": {
      "provenance": []
    },
    "kernelspec": {
      "name": "python3",
      "display_name": "Python 3"
    },
    "language_info": {
      "name": "python"
    }
  },
  "cells": [
    {
      "cell_type": "code",
      "execution_count": 3,
      "metadata": {
        "colab": {
          "base_uri": "https://localhost:8080/"
        },
        "id": "TV9l93VaVb7N",
        "outputId": "1ee59de3-2815-4bd1-cf2a-1d822ca56807"
      },
      "outputs": [
        {
          "output_type": "stream",
          "name": "stdout",
          "text": [
            "標題 : 打氣筒- 直立式 - PChome 24h購物24h.pchome.com.tw › 休閒 › 單車/滑板車\n",
            "網址 : https://24h.pchome.com.tw/store/DEAO08&sa=U&ved=2ahUKEwjNgeSe04mCAxUANEQIHdW3B5wQFnoECAQQAg&usg=AOvVaw2hy3fmvyjq2i3bW1yVY1Uc\n",
            "\n",
            "標題 : 打氣筒/胎壓計- 自行車零/組件 - momo購物網www.momoshop.com.tw › ... › 打氣筒/胎壓計\n",
            "網址 : https://www.momoshop.com.tw/category/DgrpCategory.jsp%3Fd_code%3D4100404011&sa=U&ved=2ahUKEwjNgeSe04mCAxUANEQIHdW3B5wQFnoECAUQAg&usg=AOvVaw2Ss6bNaTF1WBBCWUwjmO_w\n",
            "\n",
            "標題 : 打氣筒- 攜帶型 - PChome 24h購物24h.pchome.com.tw › 休閒 › 單車/滑板車\n",
            "網址 : https://24h.pchome.com.tw/store/DEAO26&sa=U&ved=2ahUKEwjNgeSe04mCAxUANEQIHdW3B5wQFnoECAkQAg&usg=AOvVaw23TsFykVZX6FVE9G9Q-exM\n",
            "\n",
            "標題 : 打氣筒優惠推薦－2023年10月｜蝦皮購物台灣shopee.tw › 蝦皮購物 › 打氣筒\n",
            "網址 : https://shopee.tw/list/%25E6%2589%2593%25E6%25B0%25A3%25E7%25AD%2592&sa=U&ved=2ahUKEwjNgeSe04mCAxUANEQIHdW3B5wQFnoECAIQAg&usg=AOvVaw0Z_jEVt3-Ea34HSbdbYfXI\n",
            "\n",
            "標題 : 打氣筒 - momo購物網m.momoshop.com.tw › search › searchKeyword=打氣...\n",
            "網址 : https://m.momoshop.com.tw/search.momo%3FsearchKeyword%3D%25E6%2589%2593%25E6%25B0%25A3%25E7%25AD%2592&sa=U&ved=2ahUKEwjNgeSe04mCAxUANEQIHdW3B5wQFnoECAAQAg&usg=AOvVaw2zZ1DZnc8j_jPcZRaMqaqU\n",
            "\n",
            "標題 : Amazon 暢銷商品: 最佳氣墊床打氣筒www.amazon.com › bestsellers › home-garden\n",
            "網址 : https://www.amazon.com/-/zh_TW/gp/bestsellers/home-garden/3732481/ref%3Dpd_zg_hrsr_home-garden&sa=U&ved=2ahUKEwjNgeSe04mCAxUANEQIHdW3B5wQFnoECAcQAg&usg=AOvVaw2-sWQiP7jLdzqEVcbGhXDO\n",
            "\n",
            "標題 : 打氣筒 - Topeakwww.topeak.com › products › 38-打氣筒\n",
            "網址 : https://www.topeak.com/tw/ch/products/38-%25E6%2589%2593%25E6%25B0%25A3%25E7%25AD%2592&sa=U&ved=2ahUKEwjNgeSe04mCAxUANEQIHdW3B5wQFnoECAYQAg&usg=AOvVaw2cNJi3Lo8xRSjpEcqCNBm2\n",
            "\n",
            "標題 : 最佳自行車框架固定打氣筒 - Amazon.comwww.amazon.com › bestsellers › sporting-goods\n",
            "網址 : https://www.amazon.com/-/zh_TW/gp/bestsellers/sporting-goods/16062041/ref%3Dpd_zg_hrsr_sporting-goods&sa=U&ved=2ahUKEwjNgeSe04mCAxUANEQIHdW3B5wQFnoECAMQAg&usg=AOvVaw2n_Q6VZmjXp-XjgPtVjMsM\n",
            "\n",
            "標題 : 【2023最新】十大自行車打氣筒推薦排行榜 - mybesttw.my-best.com › 運動用品 › 自行車用品\n",
            "網址 : https://tw.my-best.com/114253&sa=U&ved=2ahUKEwjNgeSe04mCAxUANEQIHdW3B5wQFnoECAEQAg&usg=AOvVaw2AcV6uY0XLKp63-DQFUuNU\n",
            "\n"
          ]
        }
      ],
      "source": [
        "import requests\n",
        "from bs4 import BeautifulSoup\n",
        "\n",
        "# google url\n",
        "google_url = 'https://www.google.com.tw/search'\n",
        "\n",
        "# parameter\n",
        "my_params = {'q': '打氣筒'}\n",
        "\n",
        "r = requests.get(google_url, params = my_params)\n",
        "\n",
        "soup = BeautifulSoup(r.text,'html.parser')\n",
        "\n",
        "#print(soup.prettify())\n",
        "\n",
        "items = soup.select('div.kCrYT > a[href^=\"/url\"]')\n",
        "#print(items)\n",
        "\n",
        "for i in items:\n",
        "    # 標題\n",
        "    print(\"標題 : \" + i.text)\n",
        "    # 網址\n",
        "    print(\"網址 : \" + i.get('href').replace(\"/url?q=\",\"\"))\n",
        "    print()"
      ]
    }
  ]
}